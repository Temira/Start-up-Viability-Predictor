{
 "cells": [
  {
   "cell_type": "markdown",
   "id": "26565080",
   "metadata": {},
   "source": [
    "# Welcome to my (attempted) Start-Up Viability Predictor"
   ]
  },
  {
   "cell_type": "markdown",
   "id": "a9637da3",
   "metadata": {},
   "source": [
    "1) Import all necessary libraries"
   ]
  },
  {
   "cell_type": "code",
   "execution_count": 1,
   "id": "870ac6ba",
   "metadata": {},
   "outputs": [],
   "source": [
    "import pandas as pd\n",
    "import datetime as dt\n",
    "import numpy as np\n",
    "%matplotlib inline"
   ]
  },
  {
   "cell_type": "markdown",
   "id": "6799805c",
   "metadata": {},
   "source": [
    "2) Import both necessary data sets and label them appropriately"
   ]
  },
  {
   "cell_type": "markdown",
   "id": "1c42d53b",
   "metadata": {},
   "source": [
    "a) first, import and format the start-up dataset\n",
    "\n",
    "This is a dataset of almost 50k startups and their funding processes and whether or not they currently exist today. This is the data that I will train my model on."
   ]
  },
  {
   "cell_type": "code",
   "execution_count": 2,
   "id": "c7592ccb",
   "metadata": {},
   "outputs": [
    {
     "data": {
      "text/html": [
       "<div>\n",
       "<style scoped>\n",
       "    .dataframe tbody tr th:only-of-type {\n",
       "        vertical-align: middle;\n",
       "    }\n",
       "\n",
       "    .dataframe tbody tr th {\n",
       "        vertical-align: top;\n",
       "    }\n",
       "\n",
       "    .dataframe thead th {\n",
       "        text-align: right;\n",
       "    }\n",
       "</style>\n",
       "<table border=\"1\" class=\"dataframe\">\n",
       "  <thead>\n",
       "    <tr style=\"text-align: right;\">\n",
       "      <th></th>\n",
       "      <th>status</th>\n",
       "      <th>country_code</th>\n",
       "      <th>city</th>\n",
       "      <th>funding_rounds</th>\n",
       "      <th>market</th>\n",
       "      <th>funding_total_usd</th>\n",
       "      <th>fund1</th>\n",
       "      <th>fundLast</th>\n",
       "      <th>found</th>\n",
       "    </tr>\n",
       "  </thead>\n",
       "  <tbody>\n",
       "    <tr>\n",
       "      <th>0</th>\n",
       "      <td>acquired</td>\n",
       "      <td>USA</td>\n",
       "      <td>New York</td>\n",
       "      <td>1.0</td>\n",
       "      <td>News</td>\n",
       "      <td>17,50,000</td>\n",
       "      <td>2012-06</td>\n",
       "      <td>2012-06</td>\n",
       "      <td>2012-06</td>\n",
       "    </tr>\n",
       "    <tr>\n",
       "      <th>2</th>\n",
       "      <td>operating</td>\n",
       "      <td>EST</td>\n",
       "      <td>Tallinn</td>\n",
       "      <td>1.0</td>\n",
       "      <td>Publishing</td>\n",
       "      <td>40,000</td>\n",
       "      <td>2012-08</td>\n",
       "      <td>2012-08</td>\n",
       "      <td>2012-10</td>\n",
       "    </tr>\n",
       "    <tr>\n",
       "      <th>3</th>\n",
       "      <td>operating</td>\n",
       "      <td>GBR</td>\n",
       "      <td>London</td>\n",
       "      <td>1.0</td>\n",
       "      <td>Electronics</td>\n",
       "      <td>15,00,000</td>\n",
       "      <td>2011-04</td>\n",
       "      <td>2011-04</td>\n",
       "      <td>2011-04</td>\n",
       "    </tr>\n",
       "    <tr>\n",
       "      <th>4</th>\n",
       "      <td>operating</td>\n",
       "      <td>USA</td>\n",
       "      <td>Fort Worth</td>\n",
       "      <td>2.0</td>\n",
       "      <td>Tourism</td>\n",
       "      <td>60,000</td>\n",
       "      <td>2014-08</td>\n",
       "      <td>2014-09</td>\n",
       "      <td>2014-01</td>\n",
       "    </tr>\n",
       "    <tr>\n",
       "      <th>7</th>\n",
       "      <td>operating</td>\n",
       "      <td>NaN</td>\n",
       "      <td>NaN</td>\n",
       "      <td>1.0</td>\n",
       "      <td>Curated Web</td>\n",
       "      <td>20,00,000</td>\n",
       "      <td>2008-03</td>\n",
       "      <td>2008-03</td>\n",
       "      <td>2007-01</td>\n",
       "    </tr>\n",
       "  </tbody>\n",
       "</table>\n",
       "</div>"
      ],
      "text/plain": [
       "      status country_code        city  funding_rounds         market  \\\n",
       "0   acquired          USA    New York             1.0          News    \n",
       "2  operating          EST     Tallinn             1.0    Publishing    \n",
       "3  operating          GBR      London             1.0   Electronics    \n",
       "4  operating          USA  Fort Worth             2.0       Tourism    \n",
       "7  operating          NaN         NaN             1.0   Curated Web    \n",
       "\n",
       "  funding_total_usd    fund1 fundLast    found  \n",
       "0        17,50,000   2012-06  2012-06  2012-06  \n",
       "2           40,000   2012-08  2012-08  2012-10  \n",
       "3        15,00,000   2011-04  2011-04  2011-04  \n",
       "4           60,000   2014-08  2014-09  2014-01  \n",
       "7        20,00,000   2008-03  2008-03  2007-01  "
      ]
     },
     "execution_count": 2,
     "metadata": {},
     "output_type": "execute_result"
    }
   ],
   "source": [
    "investments_url = \"investments_VC.csv\"\n",
    "df = pd.read_csv(investments_url, encoding =\"latin1\")\n",
    "\n",
    "#fix column names\n",
    "df['market'] = df[' market ']\n",
    "df['funding_total_usd'] = df[' funding_total_usd ']\n",
    "\n",
    "df = df.drop(['name', 'homepage_url', 'permalink', 'state_code',  ' market ',' funding_total_usd ', 'category_list'], axis=1)\n",
    "df = df.drop(['round_A','round_B','round_C','round_D','round_E' ,'round_F','round_G' ,'round_H'], axis=1)\n",
    "df = df.drop(['debt_financing', 'angel', 'grant', 'private_equity', 'post_ipo_equity', 'post_ipo_debt', 'secondary_market', 'product_crowdfunding'], axis=1)\n",
    "df = df.drop(['seed', 'venture', 'equity_crowdfunding', 'undisclosed', 'convertible_note', 'founded_month', 'founded_quarter'], axis=1)\n",
    "\n",
    "df=df.dropna(subset=['status','funding_total_usd','founded_at'])\n",
    "df = df.drop(df[df.funding_total_usd == '-'].index)\n",
    "\n",
    "df['fund1']=df['first_funding_at'].str.slice(0,7)\n",
    "df['fundLast']=df['last_funding_at'].str.slice(0,7)\n",
    "df['found']=df['founded_at'].str.slice(0,7)\n",
    "df = df.drop(['first_funding_at','last_funding_at','founded_at' ,'founded_year', 'region'], axis=1)\n",
    "\n",
    "df.head(5)"
   ]
  },
  {
   "cell_type": "markdown",
   "id": "131eb976",
   "metadata": {},
   "source": [
    "b) then, import and format the consumer price index information\n",
    "\n",
    "This information will be cross-refernced with the important \"life-cycle\" dates of the start-ups. This model will try to analyze the start-ups by the CPI when they were founded, when they raised their first round of funding, and when they raised their last round of funding"
   ]
  },
  {
   "cell_type": "code",
   "execution_count": 3,
   "id": "4863dfed",
   "metadata": {},
   "outputs": [],
   "source": [
    "CPI_url = 'https://pkgstore.datahub.io/core/cpi-us/cpiai_csv/data/b17bfacbda3c08e51cd13fe544b8fca4/cpiai_csv.csv'\n",
    "df2 = pd.read_csv(CPI_url)"
   ]
  },
  {
   "cell_type": "markdown",
   "id": "e5bfb6e8",
   "metadata": {},
   "source": [
    "#### Cross reference the notable dates with the CPI on those dates"
   ]
  },
  {
   "cell_type": "code",
   "execution_count": 4,
   "id": "966f43d2",
   "metadata": {},
   "outputs": [],
   "source": [
    "df2['month_year'] = pd.to_datetime(df2['Date']).dt.to_period('M')\n",
    "df2['fund1']=df2['month_year'].astype(str)\n",
    "df2['Index_firstFunding'] = df2['Index']\n",
    "df2 = df2.drop(['Date', 'Inflation', 'Index','month_year'], axis=1)"
   ]
  },
  {
   "cell_type": "code",
   "execution_count": 5,
   "id": "04432765",
   "metadata": {},
   "outputs": [],
   "source": [
    "df3 = pd.read_csv(CPI_url)\n",
    "df3['month_year'] = pd.to_datetime(df3['Date']).dt.to_period('M')\n",
    "df3['fundLast']=df3['month_year'].astype(str)\n",
    "df3['Index_lastFunding'] = df3['Index']\n",
    "df3 = df3.drop(['Date', 'Inflation', 'Index','month_year'], axis=1)"
   ]
  },
  {
   "cell_type": "code",
   "execution_count": 6,
   "id": "2560b483",
   "metadata": {},
   "outputs": [],
   "source": [
    "df4 = pd.read_csv(CPI_url)\n",
    "df4['month_year'] = pd.to_datetime(df4['Date']).dt.to_period('M')\n",
    "df4['found']=df4['month_year'].astype(str)\n",
    "df4['Index_found'] = df4['Index']\n",
    "df4 = df4.drop(['Date', 'Inflation', 'Index','month_year'], axis=1)"
   ]
  },
  {
   "cell_type": "markdown",
   "id": "57a18b4a",
   "metadata": {},
   "source": [
    "### Merge everything onto one dataframe (and print the top so we can see how nicely it came out!)"
   ]
  },
  {
   "cell_type": "code",
   "execution_count": 7,
   "id": "6a29a8f9",
   "metadata": {},
   "outputs": [
    {
     "data": {
      "text/html": [
       "<div>\n",
       "<style scoped>\n",
       "    .dataframe tbody tr th:only-of-type {\n",
       "        vertical-align: middle;\n",
       "    }\n",
       "\n",
       "    .dataframe tbody tr th {\n",
       "        vertical-align: top;\n",
       "    }\n",
       "\n",
       "    .dataframe thead th {\n",
       "        text-align: right;\n",
       "    }\n",
       "</style>\n",
       "<table border=\"1\" class=\"dataframe\">\n",
       "  <thead>\n",
       "    <tr style=\"text-align: right;\">\n",
       "      <th></th>\n",
       "      <th>country_code</th>\n",
       "      <th>city</th>\n",
       "      <th>funding_rounds</th>\n",
       "      <th>market</th>\n",
       "      <th>Index_firstFunding</th>\n",
       "      <th>Index_lastFunding</th>\n",
       "      <th>Index_found</th>\n",
       "      <th>label</th>\n",
       "    </tr>\n",
       "  </thead>\n",
       "  <tbody>\n",
       "    <tr>\n",
       "      <th>0</th>\n",
       "      <td>USA</td>\n",
       "      <td>New York</td>\n",
       "      <td>1.0</td>\n",
       "      <td>News</td>\n",
       "      <td>229.478</td>\n",
       "      <td>229.478</td>\n",
       "      <td>229.478</td>\n",
       "      <td>acquired</td>\n",
       "    </tr>\n",
       "    <tr>\n",
       "      <th>1</th>\n",
       "      <td>EST</td>\n",
       "      <td>Tallinn</td>\n",
       "      <td>1.0</td>\n",
       "      <td>Publishing</td>\n",
       "      <td>230.379</td>\n",
       "      <td>230.379</td>\n",
       "      <td>231.317</td>\n",
       "      <td>operating</td>\n",
       "    </tr>\n",
       "    <tr>\n",
       "      <th>2</th>\n",
       "      <td>GBR</td>\n",
       "      <td>London</td>\n",
       "      <td>1.0</td>\n",
       "      <td>Electronics</td>\n",
       "      <td>224.906</td>\n",
       "      <td>224.906</td>\n",
       "      <td>224.906</td>\n",
       "      <td>operating</td>\n",
       "    </tr>\n",
       "    <tr>\n",
       "      <th>3</th>\n",
       "      <td>NaN</td>\n",
       "      <td>NaN</td>\n",
       "      <td>1.0</td>\n",
       "      <td>Curated Web</td>\n",
       "      <td>213.528</td>\n",
       "      <td>213.528</td>\n",
       "      <td>202.416</td>\n",
       "      <td>operating</td>\n",
       "    </tr>\n",
       "    <tr>\n",
       "      <th>4</th>\n",
       "      <td>CHL</td>\n",
       "      <td>Las Condes</td>\n",
       "      <td>1.0</td>\n",
       "      <td>E-Commerce</td>\n",
       "      <td>232.166</td>\n",
       "      <td>232.166</td>\n",
       "      <td>226.665</td>\n",
       "      <td>operating</td>\n",
       "    </tr>\n",
       "    <tr>\n",
       "      <th>5</th>\n",
       "      <td>USA</td>\n",
       "      <td>Los Angeles</td>\n",
       "      <td>1.0</td>\n",
       "      <td>Health and Wellness</td>\n",
       "      <td>218.312</td>\n",
       "      <td>218.312</td>\n",
       "      <td>109.600</td>\n",
       "      <td>operating</td>\n",
       "    </tr>\n",
       "    <tr>\n",
       "      <th>6</th>\n",
       "      <td>USA</td>\n",
       "      <td>Iselin</td>\n",
       "      <td>1.0</td>\n",
       "      <td>Health and Wellness</td>\n",
       "      <td>223.467</td>\n",
       "      <td>223.467</td>\n",
       "      <td>101.900</td>\n",
       "      <td>operating</td>\n",
       "    </tr>\n",
       "    <tr>\n",
       "      <th>7</th>\n",
       "      <td>USA</td>\n",
       "      <td>Orlando</td>\n",
       "      <td>1.0</td>\n",
       "      <td>Real Estate</td>\n",
       "      <td>233.916</td>\n",
       "      <td>233.916</td>\n",
       "      <td>233.049</td>\n",
       "      <td>operating</td>\n",
       "    </tr>\n",
       "    <tr>\n",
       "      <th>8</th>\n",
       "      <td>USA</td>\n",
       "      <td>Woodbine</td>\n",
       "      <td>4.0</td>\n",
       "      <td>E-Commerce</td>\n",
       "      <td>215.693</td>\n",
       "      <td>225.672</td>\n",
       "      <td>175.100</td>\n",
       "      <td>operating</td>\n",
       "    </tr>\n",
       "    <tr>\n",
       "      <th>9</th>\n",
       "      <td>USA</td>\n",
       "      <td>Lake Oswego</td>\n",
       "      <td>1.0</td>\n",
       "      <td>Search</td>\n",
       "      <td>226.545</td>\n",
       "      <td>226.545</td>\n",
       "      <td>211.080</td>\n",
       "      <td>operating</td>\n",
       "    </tr>\n",
       "  </tbody>\n",
       "</table>\n",
       "</div>"
      ],
      "text/plain": [
       "  country_code         city  funding_rounds                 market  \\\n",
       "0          USA     New York             1.0                  News    \n",
       "1          EST      Tallinn             1.0            Publishing    \n",
       "2          GBR       London             1.0           Electronics    \n",
       "3          NaN          NaN             1.0           Curated Web    \n",
       "4          CHL   Las Condes             1.0            E-Commerce    \n",
       "5          USA  Los Angeles             1.0   Health and Wellness    \n",
       "6          USA       Iselin             1.0   Health and Wellness    \n",
       "7          USA      Orlando             1.0           Real Estate    \n",
       "8          USA     Woodbine             4.0            E-Commerce    \n",
       "9          USA  Lake Oswego             1.0                Search    \n",
       "\n",
       "   Index_firstFunding  Index_lastFunding  Index_found      label  \n",
       "0             229.478            229.478      229.478   acquired  \n",
       "1             230.379            230.379      231.317  operating  \n",
       "2             224.906            224.906      224.906  operating  \n",
       "3             213.528            213.528      202.416  operating  \n",
       "4             232.166            232.166      226.665  operating  \n",
       "5             218.312            218.312      109.600  operating  \n",
       "6             223.467            223.467      101.900  operating  \n",
       "7             233.916            233.916      233.049  operating  \n",
       "8             215.693            225.672      175.100  operating  \n",
       "9             226.545            226.545      211.080  operating  "
      ]
     },
     "execution_count": 7,
     "metadata": {},
     "output_type": "execute_result"
    }
   ],
   "source": [
    "df = pd.merge(df, df2, how='left', on = 'fund1')\n",
    "df=df.dropna(subset=['Index_firstFunding'])\n",
    "\n",
    "df = pd.merge(df, df3, how='left', on = 'fundLast')\n",
    "df=df.dropna(subset=['Index_lastFunding'])\n",
    "\n",
    "df = pd.merge(df, df4, how='left', on = 'found')\n",
    "df=df.dropna(subset=['Index_found'])\n",
    "\n",
    "df[\"label\"] = df[\"status\"]\n",
    "df = df.drop(['status', 'fund1', 'fundLast', 'funding_total_usd', 'found'], axis=1)\n",
    "\n",
    "df.head(10)"
   ]
  },
  {
   "cell_type": "markdown",
   "id": "0edc49ed",
   "metadata": {},
   "source": [
    "    Drop all rows that have NaN in the \"label\" column because these data points won't be useful to us"
   ]
  },
  {
   "cell_type": "code",
   "execution_count": 8,
   "id": "b81fe096",
   "metadata": {},
   "outputs": [],
   "source": [
    "dfRegression=df.dropna(subset=['label'])"
   ]
  },
  {
   "cell_type": "markdown",
   "id": "b651d161",
   "metadata": {},
   "source": [
    "    Use OneHotEncoder to convert the \"market\" and \"country_code\" columns to usable data.\n",
    "    These columns (hopefully) contain useful data that we want to extract for our model to use.\n",
    "    OneHotEncoder makes the data that comes as strings useful for our model that only accepts numerical data."
   ]
  },
  {
   "cell_type": "code",
   "execution_count": 9,
   "id": "17daaca0",
   "metadata": {},
   "outputs": [],
   "source": [
    "from sklearn.preprocessing import OneHotEncoder\n",
    "\n",
    "Encode = OneHotEncoder(handle_unknown = 'ignore').fit(dfRegression[['market', 'country_code']])\n",
    "\n",
    "TrainEncode = pd.DataFrame(Encode.transform(dfRegression[['market', 'country_code']]).toarray())\n",
    "\n",
    "dfRegression = dfRegression.join(TrainEncode)\n",
    "\n",
    "dfRegression = dfRegression.drop(['city', 'market', 'country_code'], axis=1)"
   ]
  },
  {
   "cell_type": "code",
   "execution_count": 10,
   "id": "1c2a84ac",
   "metadata": {},
   "outputs": [],
   "source": [
    "dfRegression = dfRegression.dropna()"
   ]
  },
  {
   "cell_type": "markdown",
   "id": "e55fb751",
   "metadata": {},
   "source": [
    "The \"Data\" is everthing in the DataFrame minus the labels! This will become the \"X\" we will train and test with!"
   ]
  },
  {
   "cell_type": "code",
   "execution_count": 11,
   "id": "71de6417",
   "metadata": {},
   "outputs": [],
   "source": [
    "dfRegressionData = dfRegression.drop(['label'], axis=1)\n",
    "\n",
    "X = dfRegressionData"
   ]
  },
  {
   "cell_type": "markdown",
   "id": "eaf1a55e",
   "metadata": {},
   "source": [
    "Import NLTK: (for the record - this took me over 3 hours of troubleshooting)"
   ]
  },
  {
   "cell_type": "code",
   "execution_count": 12,
   "id": "c1220d59",
   "metadata": {},
   "outputs": [
    {
     "name": "stdout",
     "output_type": "stream",
     "text": [
      "Defaulting to user installation because normal site-packages is not writeable\n",
      "Requirement already satisfied: nltk in ./.local/lib/python3.7/site-packages (3.8.1)\n",
      "Requirement already satisfied: click in /opt/tljh/user/lib/python3.7/site-packages (from nltk) (8.0.4)\n",
      "Requirement already satisfied: tqdm in /opt/tljh/user/lib/python3.7/site-packages (from nltk) (4.64.1)\n",
      "Requirement already satisfied: regex>=2021.8.3 in ./.local/lib/python3.7/site-packages (from nltk) (2022.10.31)\n",
      "Requirement already satisfied: joblib in /opt/tljh/user/lib/python3.7/site-packages (from nltk) (1.1.1)\n",
      "Requirement already satisfied: importlib-metadata in /opt/tljh/user/lib/python3.7/site-packages (from click->nltk) (4.11.3)\n",
      "Requirement already satisfied: typing-extensions>=3.6.4 in /opt/tljh/user/lib/python3.7/site-packages (from importlib-metadata->click->nltk) (4.3.0)\n",
      "Requirement already satisfied: zipp>=0.5 in /opt/tljh/user/lib/python3.7/site-packages (from importlib-metadata->click->nltk) (3.8.0)\n"
     ]
    },
    {
     "name": "stderr",
     "output_type": "stream",
     "text": [
      "[nltk_data] Downloading package punkt to /home/jupyter-tk/nltk_data...\n",
      "[nltk_data]   Package punkt is already up-to-date!\n"
     ]
    },
    {
     "data": {
      "text/plain": [
       "True"
      ]
     },
     "execution_count": 12,
     "metadata": {},
     "output_type": "execute_result"
    }
   ],
   "source": [
    "!pip3 install nltk\n",
    "import nltk\n",
    "nltk.download('punkt')"
   ]
  },
  {
   "cell_type": "markdown",
   "id": "5f304078",
   "metadata": {},
   "source": [
    "Tokenize the \"labels\" then binarize the \"labels\". This will become the \"y\" that we train and test with!"
   ]
  },
  {
   "cell_type": "code",
   "execution_count": 13,
   "id": "28686669",
   "metadata": {},
   "outputs": [],
   "source": [
    "from nltk.tokenize import word_tokenize\n",
    "from sklearn.preprocessing import MultiLabelBinarizer\n",
    "\n",
    "dfRegression[\"label\"] = dfRegression[\"label\"].apply(word_tokenize)\n",
    "y = dfRegression[\"label\"]\n",
    "\n",
    "mlb = MultiLabelBinarizer()\n",
    "y = pd.DataFrame(mlb.fit_transform(y))"
   ]
  },
  {
   "cell_type": "code",
   "execution_count": 14,
   "id": "ed3b8ba3",
   "metadata": {},
   "outputs": [
    {
     "name": "stdout",
     "output_type": "stream",
     "text": [
      "['acquired' 'closed' 'operating']\n"
     ]
    }
   ],
   "source": [
    "print(mlb.classes_)"
   ]
  },
  {
   "cell_type": "markdown",
   "id": "c81fe53d",
   "metadata": {},
   "source": [
    "Important to split into training and testing sets!"
   ]
  },
  {
   "cell_type": "code",
   "execution_count": 15,
   "id": "236311e2",
   "metadata": {},
   "outputs": [],
   "source": [
    "from sklearn.model_selection import train_test_split\n",
    "X_train, X_test, y_train, y_test = train_test_split(X, y)"
   ]
  },
  {
   "cell_type": "markdown",
   "id": "be8202d1",
   "metadata": {},
   "source": [
    "#### Pre-Processing Pipeline (say that 5 times fast)\n",
    "    1) Scale Values\n",
    "    2) Run Principal Component Analysis (to reduce dimensionality)\n",
    "    3) Run Random Forest Regressor model\n",
    "    \n",
    "It is good to have this in a pipeline because whatever we do to the training set, we must do to the testing set!\n",
    "This pipeline helps to keep us consistent!\n",
    "\n"
   ]
  },
  {
   "cell_type": "code",
   "execution_count": 16,
   "id": "43f56388",
   "metadata": {},
   "outputs": [],
   "source": [
    "from sklearn.pipeline import Pipeline\n",
    "from sklearn.decomposition import PCA\n",
    "from sklearn.preprocessing import StandardScaler\n",
    "from sklearn.ensemble import RandomForestRegressor\n",
    "\n",
    "pipe = Pipeline([\n",
    "    ('scale', StandardScaler()),\n",
    "    ('pca', PCA(n_components=.95)),\n",
    "    ('model', RandomForestRegressor(n_estimators=3))\n",
    "])"
   ]
  },
  {
   "cell_type": "markdown",
   "id": "5265b104",
   "metadata": {},
   "source": [
    "    How did I pick Random Forest you might ask?\n",
    "    Great question!\n",
    "    \n",
    "    Random Forest is an example of a \"bagging\" algorithm\n",
    "    This is because the different trees run in parallel to each other \n",
    "    This type of algorithm is a good algorithm for datasets that are imbalanced\n",
    "    \n",
    "    This is relevant here becuase there are way more examples of \"operating\" start-ups than \"closed\" start-ups in \n",
    "    the train/test data set \n",
    "    This obviously doesn't reflect how start-ups behave in the real world, so this bagging algorithm is my attempt \n",
    "    to get rid of this imbalance\n",
    "    \n",
    "    I made a LARGE number of estimators (i.e. trees) in order to prevent overfitting which was a big issue for me"
   ]
  },
  {
   "cell_type": "markdown",
   "id": "fd29b4ec",
   "metadata": {},
   "source": [
    "### fit the pipeline (and the model!) :\n",
    "\n",
    "#### sorry it takes so long to train! : /\n",
    "\n",
    "According to my estimates it takes around 40 minutes to train. Maybe make a cup of coffee or two while you wait."
   ]
  },
  {
   "cell_type": "code",
   "execution_count": 17,
   "id": "144bc024",
   "metadata": {},
   "outputs": [
    {
     "name": "stderr",
     "output_type": "stream",
     "text": [
      "/opt/tljh/user/lib/python3.7/site-packages/sklearn/utils/validation.py:1692: FutureWarning: Feature names only support names that are all strings. Got feature names with dtypes: ['int', 'str']. An error will be raised in 1.2.\n",
      "  FutureWarning,\n",
      "/opt/tljh/user/lib/python3.7/site-packages/sklearn/utils/validation.py:1692: FutureWarning: Feature names only support names that are all strings. Got feature names with dtypes: ['int', 'str']. An error will be raised in 1.2.\n",
      "  FutureWarning,\n"
     ]
    }
   ],
   "source": [
    "fitted = pipe.fit(X_train, y_train)"
   ]
  },
  {
   "cell_type": "markdown",
   "id": "c994b4d0",
   "metadata": {},
   "source": [
    "## Let's check how the model did!"
   ]
  },
  {
   "cell_type": "code",
   "execution_count": 18,
   "id": "f76816a0",
   "metadata": {},
   "outputs": [
    {
     "name": "stderr",
     "output_type": "stream",
     "text": [
      "/opt/tljh/user/lib/python3.7/site-packages/sklearn/utils/validation.py:1692: FutureWarning: Feature names only support names that are all strings. Got feature names with dtypes: ['int', 'str']. An error will be raised in 1.2.\n",
      "  FutureWarning,\n",
      "/opt/tljh/user/lib/python3.7/site-packages/sklearn/utils/validation.py:1692: FutureWarning: Feature names only support names that are all strings. Got feature names with dtypes: ['int', 'str']. An error will be raised in 1.2.\n",
      "  FutureWarning,\n"
     ]
    },
    {
     "name": "stdout",
     "output_type": "stream",
     "text": [
      "Train Report               precision    recall  f1-score   support\n",
      "\n",
      "           0       0.89      0.79      0.83      2154\n",
      "           1       0.86      0.75      0.80      1475\n",
      "           2       0.96      0.97      0.97     17156\n",
      "\n",
      "   micro avg       0.95      0.94      0.94     20785\n",
      "   macro avg       0.90      0.84      0.87     20785\n",
      "weighted avg       0.95      0.94      0.94     20785\n",
      " samples avg       0.94      0.94      0.94     20785\n",
      "\n",
      "Test Report               precision    recall  f1-score   support\n",
      "\n",
      "           0       0.23      0.17      0.20       728\n",
      "           1       0.14      0.11      0.13       489\n",
      "           2       0.85      0.85      0.85      5712\n",
      "\n",
      "   micro avg       0.75      0.72      0.74      6929\n",
      "   macro avg       0.41      0.38      0.39      6929\n",
      "weighted avg       0.73      0.72      0.73      6929\n",
      " samples avg       0.72      0.72      0.72      6929\n",
      "\n"
     ]
    },
    {
     "name": "stderr",
     "output_type": "stream",
     "text": [
      "/opt/tljh/user/lib/python3.7/site-packages/sklearn/metrics/_classification.py:1318: UndefinedMetricWarning: Precision and F-score are ill-defined and being set to 0.0 in samples with no predicted labels. Use `zero_division` parameter to control this behavior.\n",
      "  _warn_prf(average, modifier, msg_start, len(result))\n",
      "/opt/tljh/user/lib/python3.7/site-packages/sklearn/metrics/_classification.py:1318: UndefinedMetricWarning: Precision and F-score are ill-defined and being set to 0.0 in samples with no predicted labels. Use `zero_division` parameter to control this behavior.\n",
      "  _warn_prf(average, modifier, msg_start, len(result))\n"
     ]
    }
   ],
   "source": [
    "from sklearn.metrics import classification_report, confusion_matrix\n",
    "from sklearn.metrics import accuracy_score\n",
    "\n",
    "predictionsTrain = fitted.predict(X_train).round()\n",
    "predictions = fitted.predict(X_test).round()\n",
    "\n",
    "print(\"Train Report\", classification_report(y_train, predictionsTrain))\n",
    "print(\"Test Report\", classification_report(y_test, predictions))"
   ]
  },
  {
   "cell_type": "markdown",
   "id": "d354114e",
   "metadata": {},
   "source": [
    "This is a confusion matrix of how accurate the model does when we predict on the data we trained on."
   ]
  },
  {
   "cell_type": "code",
   "execution_count": 19,
   "id": "85a885a2",
   "metadata": {},
   "outputs": [
    {
     "data": {
      "text/plain": [
       "<sklearn.metrics._plot.confusion_matrix.ConfusionMatrixDisplay at 0x7fc7750e8490>"
      ]
     },
     "execution_count": 19,
     "metadata": {},
     "output_type": "execute_result"
    },
    {
     "data": {
      "image/png": "[encoded data removed]",
      "text/plain": [
       "<Figure size 216x216 with 2 Axes>"
      ]
     },
     "metadata": {
      "needs_background": "light"
     },
     "output_type": "display_data"
    }
   ],
   "source": [
    "import matplotlib.pyplot as plt\n",
    "from sklearn.metrics import ConfusionMatrixDisplay, confusion_matrix\n",
    "\n",
    "fig, ax = plt.subplots(figsize=(3, 3))\n",
    "ConfusionMatrixDisplay(confusion_matrix(y_train.values.argmax(axis=1), predictionsTrain.argmax(axis=1))).plot(ax=ax)"
   ]
  },
  {
   "cell_type": "markdown",
   "id": "711f74ab",
   "metadata": {},
   "source": [
    "This is a confusion matrix of how accurate the model does when we predict on new test data. If this is very different than the last confusion matrix it signifies that the model likely overfit (and we probably need more trees)"
   ]
  },
  {
   "cell_type": "code",
   "execution_count": 20,
   "id": "ab84859a",
   "metadata": {},
   "outputs": [
    {
     "data": {
      "text/plain": [
       "<sklearn.metrics._plot.confusion_matrix.ConfusionMatrixDisplay at 0x7fc774ebbcd0>"
      ]
     },
     "execution_count": 20,
     "metadata": {},
     "output_type": "execute_result"
    },
    {
     "data": {
      "image/png": "[encoded data removed]",
      "text/plain": [
       "<Figure size 216x216 with 2 Axes>"
      ]
     },
     "metadata": {
      "needs_background": "light"
     },
     "output_type": "display_data"
    }
   ],
   "source": [
    "fig, ax = plt.subplots(figsize=(3, 3))\n",
    "ConfusionMatrixDisplay(confusion_matrix(y_test.values.argmax(axis=1), predictions.argmax(axis=1))).plot(ax=ax)"
   ]
  },
  {
   "cell_type": "markdown",
   "id": "d5bd7ff8",
   "metadata": {},
   "source": [
    "#### This model is clearly far from perfect. If I had more time I would implement more ways to get rid of the inherent imbalance in the dataset. "
   ]
  },
  {
   "cell_type": "markdown",
   "id": "5699470f",
   "metadata": {},
   "source": [
    "## Lets Predict With This Model!"
   ]
  },
  {
   "cell_type": "markdown",
   "id": "deceb17c",
   "metadata": {},
   "source": [
    "### example prediction (you can fill in your own data!)\n",
    "#### IMPORTANT!! The CPI Data only goes until the end of 2013 so putting in a later date will result in an error\n",
    "##### obviously this is NOT ideal and I hope to find better CPI data before I sell this model for a billion dollars to a big VC firm in the near future! :) "
   ]
  },
  {
   "cell_type": "code",
   "execution_count": 21,
   "id": "18a83467",
   "metadata": {},
   "outputs": [],
   "source": [
    "Market = 'Real Estate'\n",
    "Country_code = 'USA'\n",
    "Funding_rounds = '2'\n",
    "fund1 = '2009-07'\n",
    "fundLast = '2010-06'\n",
    "found = '2009-01'"
   ]
  },
  {
   "cell_type": "markdown",
   "id": "bc2559e8",
   "metadata": {},
   "source": [
    "#### You can modify the data points above but please don't modify anything below this!\n",
    "\n",
    "Create a DataFrame with the given data:"
   ]
  },
  {
   "cell_type": "code",
   "execution_count": 22,
   "id": "c8aa0be7",
   "metadata": {},
   "outputs": [
    {
     "name": "stdout",
     "output_type": "stream",
     "text": [
      "        market country_code Rounds    fund1 fundLast    found\n",
      "0  Real Estate          USA      2  2009-07  2010-06  2009-01\n"
     ]
    }
   ],
   "source": [
    "data = {\"market\": [Market], \"country_code\": [Country_code], \"Rounds\": [Funding_rounds], \n",
    "        \"fund1\": [fund1], \"fundLast\": [fundLast], \"found\":[found]}\n",
    "\n",
    "predicting = pd.DataFrame(data)\n",
    "\n",
    "print(predicting)"
   ]
  },
  {
   "cell_type": "markdown",
   "id": "5ea3ff53",
   "metadata": {},
   "source": [
    "Must do the same data preprocessing as with the train/test dataset (this means corss reference given dates with the CPI index on those dates!)"
   ]
  },
  {
   "cell_type": "code",
   "execution_count": 23,
   "id": "4b99879d",
   "metadata": {},
   "outputs": [],
   "source": [
    "df2 = pd.read_csv(CPI_url)\n",
    "df2['month_year'] = pd.to_datetime(df2['Date']).dt.to_period('M')\n",
    "df2['fund1']=df2['month_year'].astype(str)\n",
    "df2['Index_firstFunding'] = df2['Index']\n",
    "df2 = df2.drop(['Date', 'Inflation', 'Index','month_year'], axis=1)\n",
    "\n",
    "df3 = pd.read_csv(CPI_url)\n",
    "df3['month_year'] = pd.to_datetime(df3['Date']).dt.to_period('M')\n",
    "df3['fundLast']=df3['month_year'].astype(str)\n",
    "df3['Index_lastFunding'] = df3['Index']\n",
    "df3 = df3.drop(['Date', 'Inflation', 'Index','month_year'], axis=1)\n",
    "\n",
    "df4 = pd.read_csv(CPI_url)\n",
    "df4['month_year'] = pd.to_datetime(df4['Date']).dt.to_period('M')\n",
    "df4['found']=df4['month_year'].astype(str)\n",
    "df4['Index_found'] = df4['Index']\n",
    "df4 = df4.drop(['Date', 'Inflation', 'Index','month_year'], axis=1)\n",
    "\n",
    "predicting = pd.merge(predicting, df2, how='left', on = 'fund1')\n",
    "\n",
    "predicting = pd.merge(predicting, df3, how='left', on = 'fundLast')\n",
    "\n",
    "predicting = pd.merge(predicting, df4, how='left', on = 'found')\n",
    "\n",
    "predicting = predicting.drop(['fund1', 'fundLast', 'found'], axis=1)"
   ]
  },
  {
   "cell_type": "markdown",
   "id": "8b4be9e3",
   "metadata": {},
   "source": [
    "Run the SAME OneHotEncoding on this data to make the string data into usable numerical data (again, need to be consistent with the training data and the predicting data!)"
   ]
  },
  {
   "cell_type": "code",
   "execution_count": 24,
   "id": "2e12d706",
   "metadata": {},
   "outputs": [],
   "source": [
    "from sklearn.preprocessing import OneHotEncoder\n",
    "\n",
    "predict = pd.DataFrame(Encode.transform(predicting[['market', 'country_code']]).toarray())\n",
    "\n",
    "predicting = predicting.drop(['market', 'country_code'], axis=1)\n",
    "\n",
    "prediction = predicting.join(predict)"
   ]
  },
  {
   "cell_type": "markdown",
   "id": "14b142c2",
   "metadata": {},
   "source": [
    "Scale, reduce dimensionality, and then predict on the same model as before.\n",
    "That pipeline sure comes in handy!!"
   ]
  },
  {
   "cell_type": "code",
   "execution_count": 25,
   "id": "88d19481",
   "metadata": {},
   "outputs": [
    {
     "name": "stderr",
     "output_type": "stream",
     "text": [
      "/opt/tljh/user/lib/python3.7/site-packages/sklearn/utils/validation.py:1692: FutureWarning: Feature names only support names that are all strings. Got feature names with dtypes: ['int', 'str']. An error will be raised in 1.2.\n",
      "  FutureWarning,\n"
     ]
    }
   ],
   "source": [
    "prediction = fitted.predict(prediction)"
   ]
  },
  {
   "cell_type": "markdown",
   "id": "0d8eb5e6",
   "metadata": {},
   "source": [
    "Drum roll for the final prediction about the startup viability!"
   ]
  },
  {
   "cell_type": "code",
   "execution_count": 26,
   "id": "b13953ef",
   "metadata": {},
   "outputs": [
    {
     "name": "stdout",
     "output_type": "stream",
     "text": [
      "[[0.66666667 0.         0.33333333]]\n"
     ]
    }
   ],
   "source": [
    "print(prediction)"
   ]
  },
  {
   "cell_type": "markdown",
   "id": "e823e4fe",
   "metadata": {},
   "source": [
    "Thanks for reading! This project was very difficult but ultimately super rewarding! It was cool to see my idea work (somewhat) and to watch everything we learned this semester come together! Thank you!!"
   ]
  }
 ],
 "metadata": {
  "kernelspec": {
   "display_name": "Python 3 (ipykernel)",
   "language": "python",
   "name": "python3"
  },
  "language_info": {
   "codemirror_mode": {
    "name": "ipython",
    "version": 3
   },
   "file_extension": ".py",
   "mimetype": "text/x-python",
   "name": "python",
   "nbconvert_exporter": "python",
   "pygments_lexer": "ipython3",
   "version": "3.7.13"
  }
 },
 "nbformat": 4,
 "nbformat_minor": 5
}
